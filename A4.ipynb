{
 "cells": [
  {
   "cell_type": "code",
   "execution_count": null,
   "id": "b8add15f",
   "metadata": {},
   "outputs": [],
   "source": [
    "%run image_segmentation.py"
   ]
  },
  {
   "cell_type": "code",
   "execution_count": null,
   "id": "39f0cbe7",
   "metadata": {},
   "outputs": [],
   "source": [
    "# Read an image\n",
    "image_data = read_image('C:\\Users\\admin\\Desktop\\orginal tif\\2018-07-13-00_00_2018-07-13-23_59_Sentinel-2_L1C_True_color.tif')\n",
    "\n",
    "# Segment the image\n",
    "threshold = 100\n",
    "segmented_data = segment_image(image_data, threshold)\n",
    "\n",
    "# Save the segmentation result\n",
    "save_segmentation_result(segmented_data, 'C:\\Users\\admin\\Desktop\\orginal tif\\2018-07-13-00_00_2018-07-13-23_59_Sentinel-2_L1C_True_color.tif')"
   ]
  }
 ],
 "metadata": {
  "kernelspec": {
   "display_name": "Python 3 (ipykernel)",
   "language": "python",
   "name": "python3"
  },
  "language_info": {
   "codemirror_mode": {
    "name": "ipython",
    "version": 3
   },
   "file_extension": ".py",
   "mimetype": "text/x-python",
   "name": "python",
   "nbconvert_exporter": "python",
   "pygments_lexer": "ipython3",
   "version": "3.10.9"
  }
 },
 "nbformat": 4,
 "nbformat_minor": 5
}
